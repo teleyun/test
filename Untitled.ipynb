{
 "cells": [
  {
   "cell_type": "code",
   "execution_count": 1,
   "id": "e8fedf94",
   "metadata": {},
   "outputs": [
    {
     "name": "stdout",
     "output_type": "stream",
     "text": [
      "hi\n"
     ]
    }
   ],
   "source": [
    "print (\"hi\")"
   ]
  },
  {
   "cell_type": "code",
   "execution_count": 3,
   "id": "f7b6cc97",
   "metadata": {},
   "outputs": [
    {
     "data": {
      "text/plain": [
       "'[%20s]'"
      ]
     },
     "execution_count": 3,
     "metadata": {},
     "output_type": "execute_result"
    }
   ],
   "source": [
    "\"[%20s]\""
   ]
  },
  {
   "cell_type": "code",
   "execution_count": 4,
   "id": "83596a4e",
   "metadata": {},
   "outputs": [
    {
     "data": {
      "text/plain": [
       "'0.333333'"
      ]
     },
     "execution_count": 4,
     "metadata": {},
     "output_type": "execute_result"
    }
   ],
   "source": [
    "x=1/3.0\n",
    "\"%5f\" % x"
   ]
  },
  {
   "cell_type": "code",
   "execution_count": 7,
   "id": "d4574f37",
   "metadata": {},
   "outputs": [
    {
     "data": {
      "text/plain": [
       "'내 이름은 1입니다.'"
      ]
     },
     "execution_count": 7,
     "metadata": {},
     "output_type": "execute_result"
    }
   ],
   "source": [
    "\"내 이름은 %s입니다.\" % \"1\""
   ]
  },
  {
   "cell_type": "code",
   "execution_count": 8,
   "id": "9e7d8772",
   "metadata": {},
   "outputs": [
    {
     "data": {
      "text/plain": [
       "'11'"
      ]
     },
     "execution_count": 8,
     "metadata": {},
     "output_type": "execute_result"
    }
   ],
   "source": [
    "\"1\" + \"1\""
   ]
  },
  {
   "cell_type": "code",
   "execution_count": 9,
   "id": "cc7f2a59",
   "metadata": {},
   "outputs": [
    {
     "data": {
      "text/plain": [
       "'윤현정 is 46 years old'"
      ]
     },
     "execution_count": 9,
     "metadata": {},
     "output_type": "execute_result"
    }
   ],
   "source": [
    "name = \"윤현정\"\n",
    "age = 46\n",
    "\"%s is %d years old\" % (name, age)"
   ]
  },
  {
   "cell_type": "code",
   "execution_count": 10,
   "id": "6a7375e0",
   "metadata": {},
   "outputs": [
    {
     "data": {
      "text/plain": [
       "'10 / 3 = 3.3333'"
      ]
     },
     "execution_count": 10,
     "metadata": {},
     "output_type": "execute_result"
    }
   ],
   "source": [
    "a = 10\n",
    "b = 3\n",
    "\"%d / %d = %.4f\" % (a, b, a/b)"
   ]
  },
  {
   "cell_type": "code",
   "execution_count": 11,
   "id": "f91b5584",
   "metadata": {},
   "outputs": [
    {
     "data": {
      "text/plain": [
       "'[                   *]'"
      ]
     },
     "execution_count": 11,
     "metadata": {},
     "output_type": "execute_result"
    }
   ],
   "source": [
    "\"[%20s]\" % \"*\""
   ]
  },
  {
   "cell_type": "code",
   "execution_count": 38,
   "id": "1235c10f",
   "metadata": {},
   "outputs": [
    {
     "data": {
      "text/plain": [
       "'x     12'"
      ]
     },
     "execution_count": 38,
     "metadata": {},
     "output_type": "execute_result"
    }
   ],
   "source": [
    "a = 3\n",
    "b = 12\n",
    "\"%8d\"% a ,\n",
    "\"%s %6d\" % (\"x\", b)"
   ]
  },
  {
   "cell_type": "code",
   "execution_count": 2,
   "id": "28206c67",
   "metadata": {},
   "outputs": [
    {
     "name": "stdout",
     "output_type": "stream",
     "text": [
      "평년\n"
     ]
    }
   ],
   "source": [
    "y = 2100\n",
    "if (y% 400 == 0):\n",
    "    print(\"윤년\")\n",
    "elif(y % 100 == 0) :\n",
    "    print(\"평년\")\n",
    "else :\n",
    "    print(\"윤년\")"
   ]
  },
  {
   "cell_type": "code",
   "execution_count": 6,
   "id": "0534b3a2",
   "metadata": {},
   "outputs": [
    {
     "name": "stdout",
     "output_type": "stream",
     "text": [
      "1등급\n"
     ]
    }
   ],
   "source": [
    "x = 11\n",
    "if x > 10 :\n",
    "    print(\"1등급\")\n",
    "elif x > 7 :\n",
    "    print(\"2등급\")\n",
    "elif x > 4 :\n",
    "    print(\"3등급\")\n",
    "else :\n",
    "    print (\"4등급\")"
   ]
  },
  {
   "cell_type": "code",
   "execution_count": 37,
   "id": "9430b43a",
   "metadata": {},
   "outputs": [
    {
     "name": "stdout",
     "output_type": "stream",
     "text": [
      "둘다 5년 복역\n"
     ]
    }
   ],
   "source": [
    "XA = True # True = \"자백\", False = \"부인\"\n",
    "XB = True\n",
    "YA = 1\n",
    "YB = 5\n",
    "YC = 10\n",
    "if (XA == False):\n",
    "    if (XB == False) :\n",
    "        print(\"둘다 \" + str(YA) + \"년 복역\")\n",
    "    else:\n",
    "        print(\"XB는 \"  + str(YC) + \"년 복역, XA는 자유\")\n",
    "else :\n",
    "    if (XB == False) :\n",
    "        print (\"XA \"  + str(YC) + \"년 복역, XB는 자유\")\n",
    "    else : \n",
    "        print (\"둘다 \"  + str(YB) + \"년 복역\")"
   ]
  },
  {
   "cell_type": "code",
   "execution_count": 43,
   "id": "58ae4f40",
   "metadata": {},
   "outputs": [
    {
     "data": {
      "text/plain": [
       "4"
      ]
     },
     "execution_count": 43,
     "metadata": {},
     "output_type": "execute_result"
    }
   ],
   "source": [
    "def twotimes(x) :\n",
    "    y = 2 * x\n",
    "    return y\n",
    "twotimes(2)"
   ]
  },
  {
   "cell_type": "code",
   "execution_count": 53,
   "id": "0afdc5c9",
   "metadata": {},
   "outputs": [
    {
     "data": {
      "text/plain": [
       "'짝수'"
      ]
     },
     "execution_count": 53,
     "metadata": {},
     "output_type": "execute_result"
    }
   ],
   "source": [
    "def odd_even(x) :\n",
    "    if (x % 2 == 0) :\n",
    "        y = \"짝수\"\n",
    "    else :\n",
    "        y = \"홀수\"\n",
    "    return y \n",
    "\n",
    "odd_even(20)\n",
    "\n"
   ]
  },
  {
   "cell_type": "code",
   "execution_count": 2,
   "id": "2a6e8eb4",
   "metadata": {},
   "outputs": [
    {
     "data": {
      "text/plain": [
       "'평년'"
      ]
     },
     "execution_count": 2,
     "metadata": {},
     "output_type": "execute_result"
    }
   ],
   "source": [
    "def 윤년(y) :\n",
    "    if (y% 400 == 0):\n",
    "        x = \"윤년\"\n",
    "    elif(y % 100 == 0) :\n",
    "        x = \"평년\"\n",
    "    else :\n",
    "        x = \"윤년\"\n",
    "    return x\n",
    "\n",
    "윤년(1900)"
   ]
  },
  {
   "cell_type": "code",
   "execution_count": 9,
   "id": "7dc88b5c",
   "metadata": {},
   "outputs": [
    {
     "data": {
      "text/plain": [
       "28"
      ]
     },
     "execution_count": 9,
     "metadata": {},
     "output_type": "execute_result"
    }
   ],
   "source": [
    "def days1(x) :\n",
    "    if (x==1) | (x==3) | (x==5) | (x==7) | (x==8) | (x==10) | (x==12) :\n",
    "        y = 31\n",
    "    elif (x==2) :\n",
    "        y = 28\n",
    "    else :\n",
    "        y = 30\n",
    "    return y\n",
    "\n",
    "days1(2)"
   ]
  },
  {
   "cell_type": "code",
   "execution_count": 35,
   "id": "8df9d408",
   "metadata": {},
   "outputs": [
    {
     "name": "stdout",
     "output_type": "stream",
     "text": [
      "2000 년 2 월 일수는 28일\n"
     ]
    }
   ],
   "source": [
    "def days2(x, y) :\n",
    "    if (y==1) | (y==3) | (y==5) | (y==7) | (y==8) | (y==10) | (y==12) :\n",
    "        z = print(x, \"년 일수는 31일\")\n",
    "    elif (y==2) :\n",
    "        if (x % 400 == 0):\n",
    "            z = print(x, \"년\", y, \"월 일수는 28일\")\n",
    "        elif(x % 100 == 0) :\n",
    "            z = 28\n",
    "        else :\n",
    "            z = 29\n",
    "    else :\n",
    "        z = 30\n",
    "    return z\n",
    "\n",
    "days2(2000, 2)"
   ]
  },
  {
   "cell_type": "code",
   "execution_count": 24,
   "id": "75c4d00a",
   "metadata": {},
   "outputs": [],
   "source": [
    "def f(x) :\n",
    "    return 2 * x"
   ]
  },
  {
   "cell_type": "code",
   "execution_count": 27,
   "id": "ac47ed68",
   "metadata": {},
   "outputs": [
    {
     "data": {
      "text/plain": [
       "4"
      ]
     },
     "execution_count": 27,
     "metadata": {},
     "output_type": "execute_result"
    }
   ],
   "source": [
    "f = lambda x : 2 * x\n",
    "f(2)"
   ]
  },
  {
   "cell_type": "code",
   "execution_count": 28,
   "id": "b9333eef",
   "metadata": {},
   "outputs": [],
   "source": [
    "def f(x) :\n",
    "    y = 10 * x\n",
    "    print(\"y = \", y)\n",
    "    return y"
   ]
  },
  {
   "cell_type": "code",
   "execution_count": 29,
   "id": "aa7c230f",
   "metadata": {},
   "outputs": [
    {
     "name": "stdout",
     "output_type": "stream",
     "text": [
      "y =  100\n"
     ]
    },
    {
     "data": {
      "text/plain": [
       "100"
      ]
     },
     "execution_count": 29,
     "metadata": {},
     "output_type": "execute_result"
    }
   ],
   "source": [
    "f(10)"
   ]
  },
  {
   "cell_type": "code",
   "execution_count": 38,
   "id": "f44bc6e3",
   "metadata": {},
   "outputs": [],
   "source": [
    "y = 1000"
   ]
  },
  {
   "cell_type": "code",
   "execution_count": 40,
   "id": "5c81f4e6",
   "metadata": {},
   "outputs": [
    {
     "data": {
      "text/plain": [
       "1000"
      ]
     },
     "execution_count": 40,
     "metadata": {},
     "output_type": "execute_result"
    }
   ],
   "source": [
    "y"
   ]
  },
  {
   "cell_type": "code",
   "execution_count": 42,
   "id": "2cdade56",
   "metadata": {},
   "outputs": [
    {
     "name": "stdout",
     "output_type": "stream",
     "text": [
      "y =  10\n"
     ]
    },
    {
     "data": {
      "text/plain": [
       "10"
      ]
     },
     "execution_count": 42,
     "metadata": {},
     "output_type": "execute_result"
    }
   ],
   "source": [
    "f(1)"
   ]
  },
  {
   "cell_type": "code",
   "execution_count": 5,
   "id": "6456bdd6",
   "metadata": {},
   "outputs": [
    {
     "data": {
      "text/plain": [
       "8"
      ]
     },
     "execution_count": 5,
     "metadata": {},
     "output_type": "execute_result"
    }
   ],
   "source": [
    "def diffsum(x, y, z) :\n",
    "    nomal_sum = x + y + z \n",
    "    square_sum = x**2 + y**2 + z**2\n",
    "    diff_sum = abs(nomal_sum - square_sum)\n",
    "    return diff_sum\n",
    "\n",
    "diffsum(1,2,3)"
   ]
  },
  {
   "cell_type": "code",
   "execution_count": 11,
   "id": "5c2c556f",
   "metadata": {},
   "outputs": [],
   "source": [
    "m = 0\n",
    "x =1\n",
    "y =1\n",
    "z =1 \n",
    "def diffsum2(x, y, z) :\n",
    "    global m\n",
    "    if diffsum(x,y,z) > m :\n",
    "        m = diffsum(x,y,z)\n",
    "        return m\n",
    "    "
   ]
  },
  {
   "cell_type": "code",
   "execution_count": 7,
   "id": "364bd2e9",
   "metadata": {},
   "outputs": [],
   "source": [
    "z = 3\n",
    "\n",
    "def f4(x) :\n",
    "    global z\n",
    "    z = 99\n",
    "    y = z * x\n",
    "    print(\"y =\", y)\n",
    "    print(\"z =\", z)\n",
    "    return z"
   ]
  },
  {
   "cell_type": "code",
   "execution_count": 13,
   "id": "6c2cdc57",
   "metadata": {},
   "outputs": [],
   "source": [
    "diffsum2(1,2,3)"
   ]
  },
  {
   "cell_type": "code",
   "execution_count": 16,
   "id": "5e97f78f",
   "metadata": {},
   "outputs": [
    {
     "data": {
      "text/plain": [
       "8"
      ]
     },
     "execution_count": 16,
     "metadata": {},
     "output_type": "execute_result"
    }
   ],
   "source": [
    "m"
   ]
  },
  {
   "cell_type": "code",
   "execution_count": 24,
   "id": "654697fc",
   "metadata": {},
   "outputs": [
    {
     "name": "stdout",
     "output_type": "stream",
     "text": [
      "=1=\n",
      "=2=\n",
      "=3=\n",
      "=4=\n",
      "=5=\n",
      "=6=\n",
      "=7=\n",
      "=8=\n",
      "=9=\n",
      "=10=\n"
     ]
    }
   ],
   "source": [
    "\n",
    "for i in range(10) :\n",
    "    i = 1 + i\n",
    "    print(\"=\" + str(i) + \"=\")"
   ]
  },
  {
   "cell_type": "code",
   "execution_count": 26,
   "id": "ea4452fa",
   "metadata": {},
   "outputs": [
    {
     "name": "stdout",
     "output_type": "stream",
     "text": [
      "\n",
      "*\n",
      "**\n",
      "***\n",
      "****\n",
      "*****\n",
      "******\n",
      "*******\n",
      "********\n",
      "*********\n"
     ]
    }
   ],
   "source": [
    "for i in range(10) :\n",
    "    print (\"*\" * i)"
   ]
  },
  {
   "cell_type": "code",
   "execution_count": 30,
   "id": "06a0d468",
   "metadata": {},
   "outputs": [
    {
     "name": "stdout",
     "output_type": "stream",
     "text": [
      "**********\n",
      "*********\n",
      "********\n",
      "*******\n",
      "******\n",
      "*****\n",
      "****\n",
      "***\n",
      "**\n",
      "*\n"
     ]
    }
   ],
   "source": [
    "for i in range(10) :\n",
    "    j = 10\n",
    "    j = j - i\n",
    "    print (\"*\" * j)"
   ]
  },
  {
   "cell_type": "code",
   "execution_count": 54,
   "id": "b93290f9",
   "metadata": {},
   "outputs": [
    {
     "name": "stdout",
     "output_type": "stream",
     "text": [
      "\n",
      "*\n",
      "**\n",
      "***\n",
      "****\n",
      "*****\n",
      "******\n",
      "*******\n",
      "********\n",
      "*********\n",
      "**********\n",
      "*********\n",
      "********\n",
      "*******\n",
      "******\n",
      "*****\n",
      "****\n",
      "***\n",
      "**\n",
      "*\n"
     ]
    }
   ],
   "source": [
    "for i in range(20) :\n",
    "    if i < 10 :\n",
    "        print (\"*\" * i)\n",
    "    else :\n",
    "        j = 20\n",
    "        j = j - i\n",
    "        print (\"*\" * j)        "
   ]
  },
  {
   "cell_type": "code",
   "execution_count": 9,
   "id": "d18dda0c",
   "metadata": {},
   "outputs": [
    {
     "name": "stdout",
     "output_type": "stream",
     "text": [
      "0 1 2 3 \n",
      "1 2 3 4 \n",
      "2 3 4 5 \n",
      "3 4 5 6 \n"
     ]
    }
   ],
   "source": [
    "for i in range(4):\n",
    "    for j in range(4):\n",
    "        print(i+j, end=\" \")\n",
    "    print()"
   ]
  },
  {
   "cell_type": "code",
   "execution_count": 12,
   "id": "d1ab18b8",
   "metadata": {},
   "outputs": [
    {
     "name": "stdout",
     "output_type": "stream",
     "text": [
      "1 1\n",
      "1 2\n",
      "1 3\n",
      "2 1\n",
      "2 2\n",
      "2 3\n",
      "3 1\n",
      "3 2\n",
      "3 3\n"
     ]
    }
   ],
   "source": [
    "for i in range(3):\n",
    "    n1 = i + 1\n",
    "    for j in range(3):\n",
    "        n2 = j + 1\n",
    "        print(n1, n2)"
   ]
  },
  {
   "cell_type": "code",
   "execution_count": 17,
   "id": "dd6dd470",
   "metadata": {},
   "outputs": [
    {
     "name": "stdout",
     "output_type": "stream",
     "text": [
      "1 3\n",
      "2 2\n",
      "3 1\n"
     ]
    }
   ],
   "source": [
    "for i in range(6):\n",
    "    n1 = i + 1\n",
    "    for j in range(6):\n",
    "        n2 = j + 1\n",
    "        n = n1 + n2\n",
    "        if (n == 4):\n",
    "            print(n1, n2)\n",
    "        "
   ]
  },
  {
   "cell_type": "code",
   "execution_count": 47,
   "id": "5c53a8f8",
   "metadata": {},
   "outputs": [
    {
     "name": "stdout",
     "output_type": "stream",
     "text": [
      "1 1 1 2048\n",
      "1 1 2 1024.0\n",
      "1 2 1 2048.0\n",
      "1 2 2 1024.0\n",
      "2 1 1 2048.0\n",
      "2 1 2 1024.0\n",
      "2 2 1 2048.0\n",
      "2 2 2 1024.0\n"
     ]
    }
   ],
   "source": [
    "n = 2\n",
    "price = 1024\n",
    "for i in range(n):\n",
    "    i = i + 1\n",
    "    for k in range(n):\n",
    "        k = k + 1\n",
    "        for j in range(2):\n",
    "            j = j + 1\n",
    "            if j == 1 :\n",
    "                price = price *2\n",
    "                print(i, k, j, price)\n",
    "            else :\n",
    "                price = price  / 2\n",
    "                print(i, k, j, price)\n"
   ]
  },
  {
   "cell_type": "code",
   "execution_count": 49,
   "id": "07bac400",
   "metadata": {},
   "outputs": [
    {
     "name": "stdout",
     "output_type": "stream",
     "text": [
      "0 1\n",
      "1 3\n",
      "2 6\n",
      "3 10\n",
      "4 15\n"
     ]
    }
   ],
   "source": [
    "n = 5\n",
    "sum = 0\n",
    "for i in range(n):\n",
    "    sum = sum + (i + 1)\n",
    "    print(i, sum)"
   ]
  },
  {
   "cell_type": "code",
   "execution_count": 53,
   "id": "aefebb90",
   "metadata": {},
   "outputs": [
    {
     "name": "stdout",
     "output_type": "stream",
     "text": [
      "8192\n",
      "2048.0\n",
      "2048.0\n",
      "512.0\n",
      "2048.0\n",
      "512.0\n",
      "512.0\n",
      "128.0\n"
     ]
    }
   ],
   "source": [
    "day_1 = 1024\n",
    "for i in range(2):\n",
    "    if i == 0:\n",
    "        day_2 = day_1*2\n",
    "    else : day_2 = day_1/2\n",
    "    for j in range(2):\n",
    "        if j == 0:\n",
    "            day_3 = day_2*2\n",
    "        else : day_3 = day_2/2\n",
    "        for k in range(2):\n",
    "            if k == 0:\n",
    "                day_4 = day_3*2\n",
    "            else : day_4 = day_3/2\n",
    "            print(day_4)"
   ]
  },
  {
   "cell_type": "code",
   "execution_count": 4,
   "id": "b7fa1757",
   "metadata": {},
   "outputs": [
    {
     "name": "stdout",
     "output_type": "stream",
     "text": [
      "1\n",
      "3\n",
      "6\n",
      "10\n",
      "15\n",
      "21\n",
      "28\n",
      "36\n",
      "45\n",
      "55\n"
     ]
    }
   ],
   "source": [
    "for j in range(10):\n",
    "    sum = 0\n",
    "    for i in range(j+1):\n",
    "        sum = sum + (i+1)\n",
    "    print(sum)"
   ]
  },
  {
   "cell_type": "code",
   "execution_count": 26,
   "id": "a69dce1f",
   "metadata": {},
   "outputs": [
    {
     "name": "stdout",
     "output_type": "stream",
     "text": [
      "last_num: 3\n",
      "10\n"
     ]
    }
   ],
   "source": [
    "def func_sum(i):\n",
    "    if (i == 1):\n",
    "        return i\n",
    "    else:\n",
    "        return i + func_sum(i - 1)\n",
    "\n",
    "summ = 0\n",
    "last_num = int(input('last_num: '))\n",
    "for i in range(1, last_num + 1):\n",
    "    summ += func_sum(i)\n",
    "print(summ)"
   ]
  }
 ],
 "metadata": {
  "kernelspec": {
   "display_name": "Python 3 (ipykernel)",
   "language": "python",
   "name": "python3"
  },
  "language_info": {
   "codemirror_mode": {
    "name": "ipython",
    "version": 3
   },
   "file_extension": ".py",
   "mimetype": "text/x-python",
   "name": "python",
   "nbconvert_exporter": "python",
   "pygments_lexer": "ipython3",
   "version": "3.10.0"
  }
 },
 "nbformat": 4,
 "nbformat_minor": 5
}
