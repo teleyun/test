{
 "cells": [
  {
   "cell_type": "markdown",
   "id": "e1de6f96",
   "metadata": {},
   "source": [
    "원-핫 인코딩"
   ]
  },
  {
   "cell_type": "code",
   "execution_count": null,
   "id": "e704286e",
   "metadata": {},
   "outputs": [],
   "source": [
    "import warnings\n",
    "warnings.filterwarnings(action='ignore') \n",
    "\n",
    "import pandas as pd\n",
    "data = pd.read_csv(\"vote.csv\", encoding='utf-8')\n",
    "data.head()\n",
    "#data.hist(bins=20, figsize=(20,15))\n",
    "\n",
    "X1 = data[['gender', 'region']]\n",
    "XY = data.iloc[:,2:]\n",
    "\n",
    "X1['gender'] = X1['gender'].replace([1,2], ['male', 'female'])\n",
    "\n",
    "X1['region'] = X1['region'].replace([1,2,3,4,5],['Sudo', 'Chungcheung', 'Honam', 'Youngnam', 'Others'])\n",
    "\n",
    "X1\n",
    "\n",
    "X1_dum = pd.get_dummies(X1)\n",
    "X1_dum\n",
    "\n",
    "Fvote = pd.concat([X1_dum, XY], axis=1)\n",
    "Fvote.to_csv('Fvote.csv', index=False, sep=',', encoding='utf-8')"
   ]
  },
  {
   "cell_type": "code",
   "execution_count": null,
   "id": "24f39dcf",
   "metadata": {},
   "outputs": [],
   "source": []
  }
 ],
 "metadata": {
  "kernelspec": {
   "display_name": "Python 3 (ipykernel)",
   "language": "python",
   "name": "python3"
  },
  "language_info": {
   "codemirror_mode": {
    "name": "ipython",
    "version": 3
   },
   "file_extension": ".py",
   "mimetype": "text/x-python",
   "name": "python",
   "nbconvert_exporter": "python",
   "pygments_lexer": "ipython3",
   "version": "3.10.0"
  }
 },
 "nbformat": 4,
 "nbformat_minor": 5
}
