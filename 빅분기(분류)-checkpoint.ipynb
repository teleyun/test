{
 "cells": [
  {
   "cell_type": "code",
   "execution_count": 52,
   "id": "5fbbe129",
   "metadata": {},
   "outputs": [
    {
     "name": "stdout",
     "output_type": "stream",
     "text": [
      "Class    0.349609\n",
      "dtype: float64\n",
      "Class    0.350877\n",
      "dtype: float64\n"
     ]
    }
   ],
   "source": [
    "import pandas as pd\n",
    "\n",
    "# 데이터 불러오기\n",
    "\n",
    "data = pd.read_csv('breast-cancer-wisconsin.csv', encoding='utf-8')\n",
    "data.head()\n",
    "\n",
    "data['Class'].value_counts(sort=False)\n",
    "\n",
    "data.head()\n",
    "\n",
    "# 데이터셋 분리 (X, y : 분류문제)\n",
    "\n",
    "X = data[data.columns[0:10]]\n",
    "\n",
    "y = data[['Class']]\n",
    "\n",
    "from sklearn.model_selection import train_test_split\n",
    "\n",
    "X_train, X_test, y_train, y_test = train_test_split(X, y, stratify=y, random_state=42)\n",
    "# X_train, X_test, y_train, y_test = train_test_split(X, y)\n",
    "\n",
    "\n",
    "print(y_train.mean())\n",
    "print(y_test.mean())\n",
    "\n",
    "# 정규화\n",
    "\n",
    "from sklearn.preprocessing import MinMaxScaler\n",
    "from sklearn.preprocessing import StandardScaler\n",
    "scaler_minmax = MinMaxScaler()\n",
    "scaler_standard = StandardScaler()\n",
    "\n",
    "scaler_minmax.fit(X_train)\n",
    "X_scaled_minmax_train = scaler_minmax.transform(X_train)\n",
    "\n",
    "scaler_standard.fit(X_train)\n",
    "X_scaled_standard_train = scaler_standard.transform(X_train)\n",
    "\n",
    "# pd.DataFrame(X_scaled_minmax_train).describe()\n",
    "# pd.DataFrame(X_scaled_standard_train).describe()\n",
    "\n",
    "scaler_minmax.fit(X_test)\n",
    "X_scaled_minmax_test = scaler_minmax.transform(X_test)"
   ]
  }
 ],
 "metadata": {
  "kernelspec": {
   "display_name": "Python 3 (ipykernel)",
   "language": "python",
   "name": "python3"
  },
  "language_info": {
   "codemirror_mode": {
    "name": "ipython",
    "version": 3
   },
   "file_extension": ".py",
   "mimetype": "text/x-python",
   "name": "python",
   "nbconvert_exporter": "python",
   "pygments_lexer": "ipython3",
   "version": "3.9.7"
  }
 },
 "nbformat": 4,
 "nbformat_minor": 5
}
